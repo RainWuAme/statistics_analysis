{
 "cells": [
  {
   "cell_type": "code",
   "execution_count": null,
   "id": "raising-adrian",
   "metadata": {},
   "outputs": [],
   "source": [
    "import os\n",
    "import openpyxl\n",
    "import pandas as pd\n",
    "import numpy as np\n",
    "import matplotlib.pyplot as plt\n",
    "import seaborn as sns\n",
    "from matplotlib import rc\n",
    "from pathlib import Path\n",
    "from datetime import datetime, timedelta\n",
    "from collections import Counter\n",
    "from scipy.io import savemat\n",
    "from scipy.optimize import curve_fit\n",
    "from scipy.interpolate import UnivariateSpline\n",
    "from palettable.colorbrewer.qualitative import Set1_6\n",
    "from pygam import LinearGAM, s"
   ]
  },
  {
   "cell_type": "code",
   "execution_count": null,
   "id": "controversial-breach",
   "metadata": {},
   "outputs": [],
   "source": [
    "# import warnings filter\n",
    "from warnings import simplefilter\n",
    "# ignore all future warnings\n",
    "simplefilter(action='ignore', category=FutureWarning)\n",
    "\n",
    "# Color\n",
    "current_palette = sns.color_palette(\"Paired\")"
   ]
  }
 ],
 "metadata": {
  "kernelspec": {
   "display_name": "Python 3",
   "language": "python",
   "name": "python3"
  },
  "language_info": {
   "codemirror_mode": {
    "name": "ipython",
    "version": 3
   },
   "file_extension": ".py",
   "mimetype": "text/x-python",
   "name": "python",
   "nbconvert_exporter": "python",
   "pygments_lexer": "ipython3",
   "version": "3.9.2"
  }
 },
 "nbformat": 4,
 "nbformat_minor": 5
}
